{
 "cells": [
  {
   "cell_type": "markdown",
   "id": "f880be60",
   "metadata": {},
   "source": [
    "# Assignment 1"
   ]
  },
  {
   "cell_type": "code",
   "execution_count": null,
   "id": "2999f40c",
   "metadata": {},
   "outputs": [],
   "source": [
    "# Ans 1:\n",
    "'''\n",
    "values are 'hello',-87.8,6\n",
    "expressions are *,-/,+\n",
    "'''"
   ]
  },
  {
   "cell_type": "code",
   "execution_count": null,
   "id": "27f9e288",
   "metadata": {},
   "outputs": [],
   "source": [
    "# Ans 2:\n",
    "''' \n",
    "string is a collection of words,alphabets or other characters,it is the primitive datatype in phython\n",
    "eg : 'phython is a programming language'\n",
    "variables are used to store data(values),when we declare a variable it occupy some space in the memory.\n",
    "eg : a = 'phython is a programming language'\n",
    "here a is  variable \n",
    "'''\n"
   ]
  },
  {
   "cell_type": "code",
   "execution_count": null,
   "id": "3713ac5b",
   "metadata": {},
   "outputs": [],
   "source": [
    "# Ans 3:\n",
    "'''\n",
    "Three data types are\n",
    "1.numeric(int,float,complex number)\n",
    "eg: int --->  i = 1\n",
    "    float---> f = 1.5\n",
    "    complex number---->  a = 3+4j\n",
    "    \n",
    "2.sequence(string,tuple,list)\n",
    "eg: string--->  s = 'hello','phython','language'\n",
    "    tuple---->  t = (1,2,3)\n",
    "    list----->  l = [1,2,3]\n",
    "3.boolean(True,False)\n",
    "eg: c = True\n",
    "    d = False \n",
    "'''"
   ]
  },
  {
   "cell_type": "code",
   "execution_count": 4,
   "id": "ab88ef42",
   "metadata": {},
   "outputs": [
    {
     "name": "stdout",
     "output_type": "stream",
     "text": [
      "5\n"
     ]
    }
   ],
   "source": [
    "# Ans 4:\n",
    "'''\n",
    "An expression is a combination of operators like (*,-,+,/) and operands\n",
    "all the expressions  can produce some other values or reduce into a single value.\n",
    "'''\n",
    "#eg:\n",
    "\n",
    "print(3+2)\n",
    "\n"
   ]
  },
  {
   "cell_type": "code",
   "execution_count": 1,
   "id": "6b16b2fd",
   "metadata": {},
   "outputs": [
    {
     "name": "stdout",
     "output_type": "stream",
     "text": [
      "2.0\n"
     ]
    }
   ],
   "source": [
    "# Ans 5:\n",
    "'''\n",
    "An expression usally refers to a piece of code that can be evaluated to a value whereas an statement  refers to piece\n",
    "of a code that excectues a specific instruction or tells the computer to complte task\n",
    "'''\n",
    "#example of expression:\n",
    "10/5\n",
    "#example of statement:\n",
    "a= 10/5\n",
    "print(a)"
   ]
  },
  {
   "cell_type": "code",
   "execution_count": 2,
   "id": "bf310bce",
   "metadata": {},
   "outputs": [
    {
     "name": "stdout",
     "output_type": "stream",
     "text": [
      "22\n"
     ]
    }
   ],
   "source": [
    "# Ans 6:\n",
    "'''\n",
    "After running the code tha bacon variable,bacon contains 22.\n",
    "because we are just adding 1 to bacon as a expression and not assining again that into bacon\n",
    "'''\n",
    "bacon = 22\n",
    "bacon +1\n",
    "print(bacon)"
   ]
  },
  {
   "cell_type": "code",
   "execution_count": null,
   "id": "86b155a5",
   "metadata": {},
   "outputs": [],
   "source": [
    "# Ans 7 :\n",
    "'''\n",
    "the value of 'spam' + 'spamspam' is 'spamspamspam'\n",
    "the value of 'spam'*3 is 'spamspamspam'\n",
    "'''\n",
    "print('spam'+'spamspam')\n",
    "print('spam'*3)\n",
    "\n",
    "         \n",
    "    "
   ]
  },
  {
   "cell_type": "code",
   "execution_count": null,
   "id": "c49fa172",
   "metadata": {},
   "outputs": [],
   "source": [
    "# Ans 8:\n",
    "'''\n",
    " for declartion of a variable there are some rules\n",
    " 1.it should not  start with numbers\n",
    " 2. it sholud not contain any special characters\n",
    " 3.it should not contain any spaces\n",
    " so, \n",
    " In variable eggs it only conatains alphabets whereas variable 100 contains numbers\n",
    " '''\n",
    "eggs = 50  #it is valid\n",
    "100 = 50 # it is invalid\n"
   ]
  },
  {
   "cell_type": "code",
   "execution_count": null,
   "id": "4115dbaa",
   "metadata": {},
   "outputs": [],
   "source": [
    "# Ans 9:\n",
    "'''The three functions are'''\n",
    "int()\n",
    "float()\n",
    "str()"
   ]
  },
  {
   "cell_type": "code",
   "execution_count": 5,
   "id": "9fbd2bd9",
   "metadata": {},
   "outputs": [
    {
     "name": "stdout",
     "output_type": "stream",
     "text": [
      "I have eaten 99 burritos.\n"
     ]
    }
   ],
   "source": [
    "# Ans 10:\n",
    "'''\n",
    "while concatentateing a value to string would be string  only \n",
    "not be the integer.\n",
    "'I have eaten ' + 99 + 'burritos'. in this expression 99 is a integer so it throws an error.\n",
    "to fix that error we have to change it into string format\n",
    "'''\n",
    "print('I have eaten ' + '99' + ' burritos.')\n"
   ]
  },
  {
   "cell_type": "code",
   "execution_count": null,
   "id": "8b7c80e1",
   "metadata": {},
   "outputs": [],
   "source": []
  }
 ],
 "metadata": {
  "kernelspec": {
   "display_name": "Python 3 (ipykernel)",
   "language": "python",
   "name": "python3"
  },
  "language_info": {
   "codemirror_mode": {
    "name": "ipython",
    "version": 3
   },
   "file_extension": ".py",
   "mimetype": "text/x-python",
   "name": "python",
   "nbconvert_exporter": "python",
   "pygments_lexer": "ipython3",
   "version": "3.9.12"
  }
 },
 "nbformat": 4,
 "nbformat_minor": 5
}
