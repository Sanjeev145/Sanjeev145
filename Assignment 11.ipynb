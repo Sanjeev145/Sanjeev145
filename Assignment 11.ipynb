{
 "cells": [
  {
   "cell_type": "code",
   "execution_count": null,
   "id": "50f6b5b5",
   "metadata": {},
   "outputs": [],
   "source": [
    "#Ans 1:\n",
    "'''\n",
    "assert spam >= 10, 'The spam variable is less than 10.'\n",
    "'''"
   ]
  },
  {
   "cell_type": "code",
   "execution_count": null,
   "id": "aa28d44b",
   "metadata": {},
   "outputs": [],
   "source": [
    "#Ans 2:\n",
    "'''\n",
    "Either assert eggs.lower() != bacon.lower() 'The eggs and bacon variables are the same!' \n",
    "or assert eggs.upper() != bacon.upper(), 'The eggs and bacon variables are the same!'\n",
    "'''"
   ]
  },
  {
   "cell_type": "code",
   "execution_count": null,
   "id": "b7fe99d0",
   "metadata": {},
   "outputs": [],
   "source": [
    "#Ans 3:\n",
    "'''\n",
    "assert False, 'This assertion always triggers.\n",
    "'''"
   ]
  },
  {
   "cell_type": "code",
   "execution_count": 1,
   "id": "94fa260a",
   "metadata": {},
   "outputs": [],
   "source": [
    "#Ans 4:\n",
    "\"To be able to call logging.debug(), you must have these two lines at the start of your program:\"\n",
    "import logging\n",
    "logging.basicConfig(level=logging.DEBUG, format=' %(asctime)s -%(levelname)s -  %(message)s')\n"
   ]
  },
  {
   "cell_type": "code",
   "execution_count": null,
   "id": "da8613de",
   "metadata": {},
   "outputs": [],
   "source": [
    "#Ans 5:\n",
    "'''To be able to send logging messages to a file named programLog.txt with logging.debug(), \n",
    "you must have these two lines at the start of your program: '''\n",
    "import logging\n",
    "logging.basicConfig(filename='programLog.txt', level=logging.DEBUG,\n",
    "format=' %(asctime)s -  %(levelname)s -  %(message)s')\n"
   ]
  },
  {
   "cell_type": "code",
   "execution_count": null,
   "id": "bc9fddd7",
   "metadata": {},
   "outputs": [],
   "source": [
    "#Ans 6:\n",
    "'''\n",
    "DEBUG, INFO, WARNING, ERROR, and CRITICAL\n",
    "'''"
   ]
  },
  {
   "cell_type": "code",
   "execution_count": null,
   "id": "86b13fc2",
   "metadata": {},
   "outputs": [],
   "source": [
    "#Ans 7:\n",
    "\n",
    "logging.disable(logging.CRITICAL)\n"
   ]
  },
  {
   "cell_type": "code",
   "execution_count": null,
   "id": "cdf625ef",
   "metadata": {},
   "outputs": [],
   "source": [
    "#Ans 8:\n",
    "'''\n",
    "The logging pacakage has a lot of useful features:\n",
    "1.Easy to see where and when a logging call is being made from.\n",
    "2.You can log to files,sockets,pretty much anything,all at the same time.\n",
    "3.you can differentiate your logging based on severity.\n",
    "4.you can also log the date and time with approriate with the help of logging\n",
    "5.it helps us to understand exceution the code very easily and find the error where occured.\n",
    "whereas we cannot have any features in print().,it just print the content what we give in the print function.\n",
    "'''"
   ]
  },
  {
   "cell_type": "code",
   "execution_count": null,
   "id": "f5271414",
   "metadata": {},
   "outputs": [],
   "source": [
    "#Ans 9:\n",
    "'''\n",
    "The Step In button will move the debugger into a function call. \n",
    "The Step Over button will quickly execute the function call without stepping into it. \n",
    "The Step Out button will quickly execute the rest of the code until it steps out of the function it currently is in.\n",
    "'''"
   ]
  },
  {
   "cell_type": "code",
   "execution_count": null,
   "id": "d29282cc",
   "metadata": {},
   "outputs": [],
   "source": [
    "#Ans 10:\n",
    "'''\n",
    "After you click Continue, the debugger will stop when it has reached the \n",
    "end of the program or a line with a breakpoint.\n",
    "'''"
   ]
  },
  {
   "cell_type": "code",
   "execution_count": null,
   "id": "55139874",
   "metadata": {},
   "outputs": [],
   "source": [
    "#Ans 11:\n",
    "'''\n",
    " A breakpoint is a setting on a line of code that causes the debugger to pause \n",
    "when the program execution reaches the line.\n",
    "'''"
   ]
  },
  {
   "cell_type": "code",
   "execution_count": null,
   "id": "2e4f386d",
   "metadata": {},
   "outputs": [],
   "source": []
  }
 ],
 "metadata": {
  "kernelspec": {
   "display_name": "Python 3 (ipykernel)",
   "language": "python",
   "name": "python3"
  },
  "language_info": {
   "codemirror_mode": {
    "name": "ipython",
    "version": 3
   },
   "file_extension": ".py",
   "mimetype": "text/x-python",
   "name": "python",
   "nbconvert_exporter": "python",
   "pygments_lexer": "ipython3",
   "version": "3.9.12"
  }
 },
 "nbformat": 4,
 "nbformat_minor": 5
}
