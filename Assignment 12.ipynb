{
 "cells": [
  {
   "cell_type": "code",
   "execution_count": null,
   "id": "626a77cd",
   "metadata": {},
   "outputs": [],
   "source": [
    "# Ans 1:\n",
    "'''\n",
    " Read-binary ('rb') for PdfFileReader() and write-binary ('wb') for PdfFileWriter()\n",
    "'''"
   ]
  },
  {
   "cell_type": "code",
   "execution_count": null,
   "id": "19dd23ad",
   "metadata": {},
   "outputs": [],
   "source": [
    "# Ans 2:\n",
    "'''\n",
    "PdfFileReader class provides a method called getPage(page_no) to get a page object.\n",
    "Calling getPage(4) will return a Page object for page 5, since page 0 is the first page.\n",
    "'''\n",
    "# Example Code:\n",
    "from PyPDF2 import PdfFileReader\n",
    "pdf_reader = PdfFileReader(file_path)\n",
    "for page in pdf_reader.getNumPages():\n",
    "    pdf_reader.getPage(page)"
   ]
  },
  {
   "cell_type": "code",
   "execution_count": null,
   "id": "fe2f5d88",
   "metadata": {},
   "outputs": [],
   "source": [
    "# Ans 3:\n",
    "'''\n",
    "The numPages variable stores an integer of the number of pages in the PdfFileReader object.\n",
    "'''"
   ]
  },
  {
   "cell_type": "code",
   "execution_count": null,
   "id": "9cc87bb9",
   "metadata": {},
   "outputs": [],
   "source": [
    "# Ans 4:\n",
    "'''\n",
    "Ans: If a PdfFileReader object’s PDF is encrypted with the password swordfish and you're not aware of it, \n",
    "first read the Pdf using the PdfFileReader Class. PdfFileReader class provides a attribute called isEncrypted to check \n",
    "whether a pdf is encrypted or not. the method returns true if a pdf is encrypted and vice versa.\n",
    "if pdf is encrypted use the decrypt() method provided by PdfFileReader class first then try to read the contents/pages of\n",
    "the pdf, else PyPDF2 will raise the following error PyPDF2.utils.PdfReadError: file has not been decrypted\n",
    "'''\n",
    "#Example Code:\n",
    "from PyPDF2 import PdfFileReader\n",
    "pdf_reader = PdfFileReader(file_path)\n",
    "if pdf_reader.isEncrypted: # to check whether the pdf is encrypted or not\n",
    "    pdf_reader.decrypt(\"swordfish\")\n",
    "for page in pdf_reader.pages:\n",
    "    print(page.extractText()) # to print the text data of a page from pdf"
   ]
  },
  {
   "cell_type": "code",
   "execution_count": null,
   "id": "c0169661",
   "metadata": {},
   "outputs": [],
   "source": [
    "# Ans 5:\n",
    "'''\n",
    "PyPDF2 Package provides 2 methods to rotate a page:\n",
    "\n",
    "1.rotateClockWise() -> For Clockwise rotation\n",
    "2.rotateCounterClockWise() -> For Counter Clockwise rotation\n",
    "'''"
   ]
  },
  {
   "cell_type": "code",
   "execution_count": null,
   "id": "ac0aea75",
   "metadata": {},
   "outputs": [],
   "source": [
    "# Ans 6:\n",
    "'''\n",
    "A document contains multiple paragraphs. A paragraph begins on a new line and contains multiple runs. \n",
    "Runs are contiguous groups of characters within a paragraph.\n",
    "'''"
   ]
  },
  {
   "cell_type": "code",
   "execution_count": null,
   "id": "7ff65074",
   "metadata": {},
   "outputs": [],
   "source": [
    "# Ans 7:\n",
    "'''\n",
    "Use doc.paragraphs.\n",
    "'''\n",
    "# Example Program\n",
    "from docx import Document\n",
    "doc = Document(\"sample_file.docx\") # Path of the Docx file\n",
    "print(doc.paragraphs) # Prints the list of Paragraph objects for a Document\n",
    "for paragraph in doc.paragraphs:\n",
    "    print(paragraph.text) # Prints the text in the paragraph"
   ]
  },
  {
   "cell_type": "code",
   "execution_count": null,
   "id": "d04d7284",
   "metadata": {},
   "outputs": [],
   "source": [
    "# Ans 8:\n",
    "'''\n",
    "Run object has bold, underline, italic, strike, and outline variables. The text in a Word document is more than just a \n",
    "string. It has font, size, color, and other styling information associated with it.\n",
    "\n",
    "A style in Word is a collection of these attributes. A Run object is a contiguous run of text with the same style. \n",
    "A new Run object is needed whenever the text style changes.\n",
    "'''"
   ]
  },
  {
   "cell_type": "code",
   "execution_count": null,
   "id": "84fadce4",
   "metadata": {},
   "outputs": [],
   "source": [
    "# Ans 9:\n",
    "'''\n",
    "True always makes the Run object bolded and False makes it always not bolded, \n",
    "no matter what the style’s bold setting is. None will make the Run object just use the style’s bold setting.\n",
    "'''\n",
    "bold = True  # Style Set to Bold\n",
    "bold = False # Style Not Set to Bold\n",
    "bold = None # Style is Not Applicable"
   ]
  },
  {
   "cell_type": "code",
   "execution_count": null,
   "id": "5289b55a",
   "metadata": {},
   "outputs": [],
   "source": [
    "# Ans 10:\n",
    "\n",
    "# Example Program\n",
    "from docx import Document\n",
    "document = Document()\n",
    "document.add_paragraph(\"iNeuron Full Stack DataScience Course\")\n",
    "document.save('mydocument.docx')"
   ]
  },
  {
   "cell_type": "code",
   "execution_count": null,
   "id": "27d7f23c",
   "metadata": {},
   "outputs": [],
   "source": [
    "# Ans 11:\n",
    "\n",
    "# Example Program\n",
    "from docx import Document\n",
    "doc = Document()\n",
    "doc.add_paragraph('Hello, there!')\n",
    "doc.save('hello.docx')"
   ]
  },
  {
   "cell_type": "code",
   "execution_count": null,
   "id": "37f65381",
   "metadata": {},
   "outputs": [],
   "source": [
    "# Ans 12:\n",
    "'''\n",
    "The integers 0, 1, 2, 3, and 4.\n",
    "The levels for a heading in a word document can be specified by using the level attribute inside the add_heading \n",
    "method.There are a total of 5 levels statring for 0 t0 4. where level 0 makes a headline with the horizontal line below\n",
    "the text, whereas the heading level 1 is the main heading. Similarly, the other headings are sub-heading with their's \n",
    "font-sizes in decreasing order.\n",
    "'''"
   ]
  },
  {
   "cell_type": "code",
   "execution_count": null,
   "id": "d36770fb",
   "metadata": {},
   "outputs": [],
   "source": []
  }
 ],
 "metadata": {
  "kernelspec": {
   "display_name": "Python 3 (ipykernel)",
   "language": "python",
   "name": "python3"
  },
  "language_info": {
   "codemirror_mode": {
    "name": "ipython",
    "version": 3
   },
   "file_extension": ".py",
   "mimetype": "text/x-python",
   "name": "python",
   "nbconvert_exporter": "python",
   "pygments_lexer": "ipython3",
   "version": "3.9.12"
  }
 },
 "nbformat": 4,
 "nbformat_minor": 5
}
