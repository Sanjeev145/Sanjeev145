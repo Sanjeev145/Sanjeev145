{
 "cells": [
  {
   "cell_type": "code",
   "execution_count": 1,
   "id": "a07fbe20",
   "metadata": {},
   "outputs": [],
   "source": [
    "# Ans 1:\n",
    "'''\n",
    "An RGBA value is a tuple of 4 integers, each ranging from 0 to 255. \n",
    "The four integers correspond to the amount of red, green, blue, and alpha (transparency) in the color.\n",
    "'''"
   ]
  },
  {
   "cell_type": "code",
   "execution_count": 2,
   "id": "cdec63e5",
   "metadata": {},
   "outputs": [],
   "source": [
    "# Ans 2:\n",
    "'''\n",
    "A function call to ImageColor.getcolor('CornflowerBlue', 'RGBA') will return (100, 149, 237, 255), \n",
    "the RGBA value for that color.\n",
    "'''"
   ]
  },
  {
   "cell_type": "code",
   "execution_count": 3,
   "id": "7693aa23",
   "metadata": {},
   "outputs": [],
   "source": [
    "# Ans 3:\n",
    "'''\n",
    "A box tuple is a tuple value of four integers: the left-edge x-coordinate, \n",
    "the top-edge y-coordinate, the width, and the height, respectively.\n",
    "'''"
   ]
  },
  {
   "cell_type": "code",
   "execution_count": 2,
   "id": "9a8b7d83",
   "metadata": {},
   "outputs": [
    {
     "name": "stdout",
     "output_type": "stream",
     "text": [
      "Width, Height -> (3276, 4096)\n",
      "Width, Height -> 3276,4096\n",
      "Width, Height -> 3276,4096\n"
     ]
    }
   ],
   "source": [
    "# Ans 4:\n",
    "#Example Program\n",
    "from PIL import Image\n",
    "pic = Image.open('sunset.jpg')\n",
    "# Approach 1\n",
    "print(f'Width, Height -> {pic.size}') \n",
    " # Approach 2\n",
    "width,height = pic.size\n",
    "print(f'Width, Height -> {pic.width},{pic.height}')\n",
    "width,height = pic.size\n",
    " # Approach 3\n",
    "print(f'Width, Height -> {width},{height}')\n"
   ]
  },
  {
   "cell_type": "code",
   "execution_count": 5,
   "id": "37fa7ba8",
   "metadata": {},
   "outputs": [],
   "source": [
    "# Ans 5:\n",
    "'''\n",
    "imageObj.crop((0, 50, 50, 50)). \n",
    "Notice that you are passing a box tuple to crop(), not four separate integer arguments.\n",
    "'''\n",
    "from PIL import Image\n",
    "img = Image.open('Pic.jpg')\n",
    "new_img = img.crop((0,50,50,50))\n"
   ]
  },
  {
   "cell_type": "code",
   "execution_count": 6,
   "id": "1eb4cea7",
   "metadata": {},
   "outputs": [],
   "source": [
    "# Ans 6:\n",
    "'''\n",
    "Call the imageObj.save('new_filename.png') method of the Image object.\n",
    "'''\n",
    "#Example Program\n",
    "from PIL import Image\n",
    "pic = Image.open('pic.jpg')\n",
    "pic.save('pic2.jpg')"
   ]
  },
  {
   "cell_type": "code",
   "execution_count": 7,
   "id": "f5b3fced",
   "metadata": {},
   "outputs": [],
   "source": [
    "# Ans 7:\n",
    "'''\n",
    "Pillows ImageDraw module contains Shape drawing methods.\n",
    "'''"
   ]
  },
  {
   "cell_type": "code",
   "execution_count": null,
   "id": "6be57679",
   "metadata": {},
   "outputs": [],
   "source": [
    "# Ans 8:\n",
    "'''\n",
    "ImageDraw objects have shape-drawing methods such as point(), line(), or rectangle(). \n",
    "They are returned by passing the Image object to the ImageDraw.Draw() function.\n",
    "'''"
   ]
  },
  {
   "cell_type": "code",
   "execution_count": null,
   "id": "707338c3",
   "metadata": {},
   "outputs": [],
   "source": []
  }
 ],
 "metadata": {
  "kernelspec": {
   "display_name": "Python 3 (ipykernel)",
   "language": "python",
   "name": "python3"
  },
  "language_info": {
   "codemirror_mode": {
    "name": "ipython",
    "version": 3
   },
   "file_extension": ".py",
   "mimetype": "text/x-python",
   "name": "python",
   "nbconvert_exporter": "python",
   "pygments_lexer": "ipython3",
   "version": "3.9.12"
  }
 },
 "nbformat": 4,
 "nbformat_minor": 5
}
