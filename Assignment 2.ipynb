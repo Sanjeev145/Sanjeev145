{
 "cells": [
  {
   "cell_type": "markdown",
   "id": "935edf46",
   "metadata": {},
   "source": [
    "# Assignment 2"
   ]
  },
  {
   "cell_type": "code",
   "execution_count": null,
   "id": "560ac938",
   "metadata": {},
   "outputs": [],
   "source": [
    "# Ans 1:\n",
    "'''\n",
    "The two values of boolean datatype are \n",
    "1.True\n",
    "2.False\n",
    "basically,we can write them as first letter of word as capital  letter and rest small letters\n",
    "'''\n",
    "a = True\n",
    "print(a)\n",
    "b = False\n",
    "print(b)\n"
   ]
  },
  {
   "cell_type": "code",
   "execution_count": null,
   "id": "c3249648",
   "metadata": {},
   "outputs": [],
   "source": [
    "# Ans 2:\n",
    "'''\n",
    "The three different types of boolean operators are \n",
    "1.AND\n",
    "2.OR\n",
    "3.NOT\n",
    "'''"
   ]
  },
  {
   "cell_type": "code",
   "execution_count": null,
   "id": "b0431640",
   "metadata": {},
   "outputs": [],
   "source": [
    "# Ans 3:\n",
    "s='''a lisT oF each Boolean operaTor's TruTh Tables \n",
    "1.  Table For AND\n",
    "    A          B         A AND B\n",
    "True       False         False\n",
    "True       True          True\n",
    "False      True          False  \n",
    "False       False        False\n",
    "2.  table for OR\n",
    "    A          B         A OR B\n",
    "True       False        True\n",
    "True       True         True\n",
    "False      True         True\n",
    "False      False        False\n",
    "\n",
    "3.  table for not\n",
    "    A       NOT A\n",
    "True       False    \n",
    "False      True\n",
    "'''"
   ]
  },
  {
   "cell_type": "code",
   "execution_count": null,
   "id": "120285b2",
   "metadata": {},
   "outputs": [],
   "source": [
    " # Ans 4:\n",
    "'''\n",
    "1.False\n",
    "2.False\n",
    "3.True\n",
    "4.False\n",
    "5.False\n",
    "6.True\n",
    "'''\n",
    "\n"
   ]
  },
  {
   "cell_type": "code",
   "execution_count": null,
   "id": "df420fa9",
   "metadata": {},
   "outputs": [],
   "source": [
    "# Ans 5:\n",
    "'''\n",
    "the six comarison operators are\n",
    "\n",
    "Less than (<)\n",
    "Greater than (>)\n",
    "Less than or equal to (<=)\n",
    "Greater than or equal to (>=)\n",
    "Equal to (==)\n",
    "Not equal to (!=)\n",
    "'''"
   ]
  },
  {
   "cell_type": "code",
   "execution_count": null,
   "id": "17ccb56b",
   "metadata": {},
   "outputs": [],
   "source": [
    "# Ans 6:\n",
    "'''\n",
    "equal to(==) operator is used to compare the two values and evalutes into a boolean value.\n",
    "assingment(=) operator is used to stores a value in a variable.\n",
    "'''\n",
    "# eg:\n",
    "# assinging\n",
    "a = 10\n",
    "b = 10\n",
    "# comparing\n",
    "a == b\n"
   ]
  },
  {
   "cell_type": "code",
   "execution_count": null,
   "id": "96d9d7fa",
   "metadata": {},
   "outputs": [],
   "source": [
    "# Ans 7:\n",
    "spam = 0\n",
    "if spam == 10:\n",
    "    # Block 1\n",
    "    print('eggs')\n",
    "if spam > 5:\n",
    "    # Block 2\n",
    "    print('bacon')\n",
    "else:\n",
    "    # Block 3\n",
    "    print('ham')\n",
    "    print('spam')\n",
    "    print('spam')\n"
   ]
  },
  {
   "cell_type": "code",
   "execution_count": null,
   "id": "8d5568b4",
   "metadata": {},
   "outputs": [],
   "source": [
    "# Ans 8:\n",
    "spam = int(input('enter a value : '))\n",
    "if spam == 1:\n",
    "    print('Hello')\n",
    "elif spam == 2:\n",
    "    print('Howdy')\n",
    "else:\n",
    "    print('Greetings!')"
   ]
  },
  {
   "cell_type": "code",
   "execution_count": null,
   "id": "550937ee",
   "metadata": {},
   "outputs": [],
   "source": [
    "# Ans 9:\n",
    "# I will use \"ctrl + c\" to stop infinite loop.\n",
    "\n",
    "    "
   ]
  },
  {
   "cell_type": "code",
   "execution_count": null,
   "id": "0d6a7c64",
   "metadata": {},
   "outputs": [],
   "source": [
    "# Ans 10:\n",
    "'''\n",
    "break statement stops the entire process of the loop.\n",
    "conitnue statement  only stops the current iteration of the loo.\n",
    "'''\n"
   ]
  },
  {
   "cell_type": "code",
   "execution_count": null,
   "id": "35b618e6",
   "metadata": {},
   "outputs": [],
   "source": [
    "# Ans 11:\n",
    "'''\n",
    "they all do same thing. the range(10) call ranges from 0 upto 10(but excludes 10).\n",
    "range(0,10) explicitly says that the loop to start at 0, and range(0,10,1) explicitly tells the loop to\n",
    "increase the variable by 1 on each iteration.\n",
    "'''"
   ]
  },
  {
   "cell_type": "code",
   "execution_count": null,
   "id": "54f47f0c",
   "metadata": {},
   "outputs": [],
   "source": [
    "# Ans 12:\n",
    "for i in range(1,11):\n",
    "    print(i)\n",
    "print()    \n",
    "a = 1\n",
    "while a < 10 :\n",
    "    print(a)\n",
    "    a += 1"
   ]
  },
  {
   "cell_type": "code",
   "execution_count": null,
   "id": "a2663fb9",
   "metadata": {},
   "outputs": [],
   "source": [
    "# Ans 13:\n",
    "import spam\n",
    "# we can call the function like this way.\n",
    "spam.backon()"
   ]
  },
  {
   "cell_type": "code",
   "execution_count": null,
   "id": "fb1e7203",
   "metadata": {},
   "outputs": [],
   "source": [
    "\n"
   ]
  }
 ],
 "metadata": {
  "kernelspec": {
   "display_name": "Python 3 (ipykernel)",
   "language": "python",
   "name": "python3"
  },
  "language_info": {
   "codemirror_mode": {
    "name": "ipython",
    "version": 3
   },
   "file_extension": ".py",
   "mimetype": "text/x-python",
   "name": "python",
   "nbconvert_exporter": "python",
   "pygments_lexer": "ipython3",
   "version": "3.9.12"
  }
 },
 "nbformat": 4,
 "nbformat_minor": 5
}
