{
 "cells": [
  {
   "cell_type": "code",
   "execution_count": 7,
   "id": "cee5141e",
   "metadata": {},
   "outputs": [
    {
     "name": "stdout",
     "output_type": "stream",
     "text": [
      "iNeuron\n"
     ]
    }
   ],
   "source": [
    "# Ans 1:\n",
    "'''\n",
    "The Result of this code is iNeuron, it's because the function intially looks for the variable X in its local scope,\n",
    "But since there is no local variable X, its returns the value of global variable x ie iNeuron.\n",
    "'''\n",
    "X = 'iNeuron'\n",
    "def func():\n",
    "    print(X)\n",
    "func()"
   ]
  },
  {
   "cell_type": "code",
   "execution_count": 10,
   "id": "2f783556",
   "metadata": {},
   "outputs": [
    {
     "name": "stdout",
     "output_type": "stream",
     "text": [
      "NI\n"
     ]
    }
   ],
   "source": [
    "# Ans 2:\n",
    "'''\n",
    "The Result of this cide is NI!, because the function initially looks for the variable X in its local scope if X is \n",
    "not available then it checks for variable X in the global scope, Since here the X is present in the local scope. \n",
    "it prints the value NI!\n",
    "'''\n",
    "X = 'iNeuron'\n",
    "def func():\n",
    "    X = 'NI'\n",
    "    print(X)\n",
    "func()"
   ]
  },
  {
   "cell_type": "code",
   "execution_count": 11,
   "id": "1df67a7d",
   "metadata": {},
   "outputs": [
    {
     "name": "stdout",
     "output_type": "stream",
     "text": [
      "NI\n",
      "iNeuron\n"
     ]
    }
   ],
   "source": [
    "# Ans 3:\n",
    "'''\n",
    "The output of the code is NI and iNeuron. X=NI is in the local scope of the function func() hence the \n",
    "function prints the x value as NI. X = 'iNeuron' is in the global scope. hence print(X) prints output as iNeuron.\n",
    "'''\n",
    "X = 'iNeuron'\n",
    "def func():\n",
    "    X = 'NI'\n",
    "    print(X)\n",
    "func()\n",
    "print(X)"
   ]
  },
  {
   "cell_type": "code",
   "execution_count": 9,
   "id": "40651c4c",
   "metadata": {},
   "outputs": [
    {
     "name": "stdout",
     "output_type": "stream",
     "text": [
      "NI\n"
     ]
    }
   ],
   "source": [
    "# Ans 4:\n",
    "'''\n",
    "The output of the code is NI. the global keyword allows a variable to be accessible in the current scope. \n",
    "since we are using global keyword inside the function func it directly access the variable in X in global scope. \n",
    "and changes its value to NI. hence the output of the code is NI.\n",
    "'''\n",
    "X = 'iNeuron'\n",
    "def func():\n",
    "    global X\n",
    "    X = 'NI'\n",
    "func()\n",
    "print(X)"
   ]
  },
  {
   "cell_type": "code",
   "execution_count": 12,
   "id": "d64c46fd",
   "metadata": {},
   "outputs": [
    {
     "name": "stdout",
     "output_type": "stream",
     "text": [
      "NI\n"
     ]
    },
    {
     "data": {
      "text/plain": [
       "'iNeuron'"
      ]
     },
     "execution_count": 12,
     "metadata": {},
     "output_type": "execute_result"
    }
   ],
   "source": [
    "# Ans 5:\n",
    "'''\n",
    "The output of the code is NI. the reason for this output is if a function wants to access a variable, \n",
    "if its not available in its localscope. it looks for the variable in its global scope. similarly here also function nested looks for variable X in its global scope. hence the output of the code is NI.\n",
    "'''\n",
    "X = 'iNeuron'\n",
    "def func():\n",
    "    X = 'NI'\n",
    "    def nested():\n",
    "        print(X)\n",
    "    nested()\n",
    "func()\n",
    "X\n"
   ]
  },
  {
   "cell_type": "code",
   "execution_count": 13,
   "id": "9adb2e95",
   "metadata": {},
   "outputs": [
    {
     "name": "stdout",
     "output_type": "stream",
     "text": [
      "Spam\n"
     ]
    }
   ],
   "source": [
    "# Ans 6:\n",
    "'''\n",
    "The output of the code is Spam. nonlocal keyword in python is used to declare a variable as not local.Hence the \n",
    "statement X = \"Spam\" is modified in the global scope. hence the output of print(X) statement is Spam.\n",
    "'''\n",
    "def func():\n",
    "    X = 'NI'\n",
    "    def nested():\n",
    "        nonlocal X\n",
    "        X = 'Spam'\n",
    "    nested()\n",
    "    print(X)\n",
    "func()"
   ]
  },
  {
   "cell_type": "code",
   "execution_count": null,
   "id": "7898aa9b",
   "metadata": {},
   "outputs": [],
   "source": []
  }
 ],
 "metadata": {
  "kernelspec": {
   "display_name": "Python 3 (ipykernel)",
   "language": "python",
   "name": "python3"
  },
  "language_info": {
   "codemirror_mode": {
    "name": "ipython",
    "version": 3
   },
   "file_extension": ".py",
   "mimetype": "text/x-python",
   "name": "python",
   "nbconvert_exporter": "python",
   "pygments_lexer": "ipython3",
   "version": "3.9.12"
  }
 },
 "nbformat": 4,
 "nbformat_minor": 5
}
