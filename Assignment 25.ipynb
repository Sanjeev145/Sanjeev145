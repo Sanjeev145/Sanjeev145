{
 "cells": [
  {
   "cell_type": "code",
   "execution_count": 5,
   "id": "900aef31",
   "metadata": {},
   "outputs": [
    {
     "name": "stdout",
     "output_type": "stream",
     "text": [
      "[0, 1, 2, 3, 4, 5, 6, 7, 8, 9] <class 'list'>\n",
      "<generator object <genexpr> at 0x000002EA37191430> <class 'generator'>\n"
     ]
    }
   ],
   "source": [
    "# Ans 1:\n",
    "'''\n",
    "Enclosing a list comprehension in square brackets returns a list.but where as enclosing a list comprehension in parentheses\n",
    "returns a generator object.\n",
    "'''\n",
    "l = [ele for ele in range(10)]\n",
    "print(l, type(l))\n",
    "g = (ele for ele in range(10))\n",
    "print(g, type(g))"
   ]
  },
  {
   "cell_type": "code",
   "execution_count": 6,
   "id": "485c8b7e",
   "metadata": {},
   "outputs": [
    {
     "name": "stdout",
     "output_type": "stream",
     "text": [
      "<class 'list_iterator'>\n",
      "iNeuron\n",
      "Full\n",
      "Stack\n",
      "Data Science\n",
      "<list_iterator object at 0x000002EA37225160>\n",
      "0\n",
      "1\n",
      "8\n",
      "27\n",
      "64\n"
     ]
    }
   ],
   "source": [
    "# Ans 2:\n",
    "'''\n",
    "An iterator is an object which contains a countable number of values and it is used to iterate over iterable objects \n",
    "like list, tuples, sets, etc. Iterators are implemented using a class. It follows lazy evaluation where the evaluation of \n",
    "the expression will be on hold and stored in the memory until the item is called specifically which helps us to avoid\n",
    "repeated evaluation. As lazy evaluation is implemented, it requires only 1 memory location to process the value and when\n",
    "we are using a large dataset then, wastage of RAM space will be reduced the need to load the entire dataset at the same \n",
    "time will not be there.For an iterator: iter() keyword is used to create an iterator containing an iterable object.next()\n",
    "keyword is used to call the next element in the iterable object.\n",
    "Similarly Generators are an another way of creating iterators in a simple way where it uses the keyword yield statement instead of return statement in a defined function.Generators are implemented using a function. Just as iterators, generators also follow lazy evaluation. Here, the yield function returns the data without affecting or exiting the function. It will return a sequence of data in an iterable format where we need to iterate over the sequence to use the data as they won’t store the entire sequence in the memory.\n",
    "'''\n",
    "# Example of iterartor\n",
    "iter_str = iter(['iNeuron','Full','Stack','Data Science'])\n",
    "print(type(iter_str))\n",
    "print(next(iter_str))\n",
    "print(next(iter_str))\n",
    "print(next(iter_str))\n",
    "print(next(iter_str))\n",
    "print(iter_str) # After the iterable object is completed, to use them again we have reassign them to the same object.\n",
    "\n",
    "# Example of Generator\n",
    "def cube_numbers(in_num):\n",
    "    for ele in range(in_num+1):\n",
    "        yield ele**3\n",
    "\n",
    "out_num = cube_numbers(4)\n",
    "print(next(out_num))\n",
    "print(next(out_num))\n",
    "print(next(out_num))\n",
    "print(next(out_num))\n",
    "print(next(out_num))"
   ]
  },
  {
   "cell_type": "code",
   "execution_count": 7,
   "id": "13cb3b95",
   "metadata": {},
   "outputs": [
    {
     "data": {
      "text/plain": [
       "'\\nAns: A generator function uses a yield statement instead of a return statement. A generator function will always return a iterable object called generator. where as a normal function can return a string/list/tuple/dict/NoneType ... etc.\\n'"
      ]
     },
     "execution_count": 7,
     "metadata": {},
     "output_type": "execute_result"
    }
   ],
   "source": [
    "# Ans 3:\n",
    "'''\n",
    "A generator function uses a yield statement instead of a return statement. \n",
    "A generator function will always return a iterable object called generator. where as a normal function can return a \n",
    "string/list/tuple/dict/NoneType ... etc.\n",
    "'''"
   ]
  },
  {
   "cell_type": "code",
   "execution_count": 4,
   "id": "75ee104e",
   "metadata": {},
   "outputs": [],
   "source": [
    "# Ans 4:\n",
    "'''\n",
    "The yield statement suspends function’s execution and sends a value back to the caller, \n",
    "but retains enough state to enable function to resume where it is left off. When resumed, the function continues \n",
    "execution immediately after the last yield run. This allows its code to produce a series of values over time, rather \n",
    "than computing them at once and sending them back like a list.\n",
    "'''"
   ]
  },
  {
   "cell_type": "code",
   "execution_count": null,
   "id": "653c4129",
   "metadata": {},
   "outputs": [],
   "source": [
    "# Ans 5:\n",
    "'''\n",
    "The main differences between map calls and list comprehensiosn are:\n",
    "1.List comprehension is more concise and easier to read as compared to map.\n",
    "List comprehension allows filtering. In map, we have no such facility. For example, to print all odd numbers in range of 50,\n",
    "we can write [n for n in range(50) if n%2 != 0]. There is no alternate for it in map\n",
    "2.List comprehension are used when a list of results is required as final output.but map only returns a map object. \n",
    "it needs to be explicitly coverted to desired datatype.\n",
    "3.List comprehension is faster than map when we need to evaluate expressions that are too long or complicated to express\n",
    "Map is faster in case of calling an already defined function on a set of values.\n",
    "'''"
   ]
  }
 ],
 "metadata": {
  "kernelspec": {
   "display_name": "Python 3 (ipykernel)",
   "language": "python",
   "name": "python3"
  },
  "language_info": {
   "codemirror_mode": {
    "name": "ipython",
    "version": 3
   },
   "file_extension": ".py",
   "mimetype": "text/x-python",
   "name": "python",
   "nbconvert_exporter": "python",
   "pygments_lexer": "ipython3",
   "version": "3.9.12"
  }
 },
 "nbformat": 4,
 "nbformat_minor": 5
}
