{
 "cells": [
  {
   "cell_type": "code",
   "execution_count": null,
   "id": "982fd7bd",
   "metadata": {},
   "outputs": [],
   "source": [
    "# Ans 1:\n",
    "'''\n",
    "There are many advantages to use functions in programms\n",
    "1.reusability of code\n",
    "2.reducing duplication of code\n",
    "3.helps in debugging\n",
    "4.management of code is very easy\n",
    "with the help of functions we can manage our entire large part of code into blocks that  helps to read and understand \n",
    "the programm in easy manner.\n",
    "'''"
   ]
  },
  {
   "cell_type": "code",
   "execution_count": null,
   "id": "bfa3d50a",
   "metadata": {},
   "outputs": [],
   "source": [
    "# Ans 2:\n",
    "'''\n",
    "The code will run when we call it,not when we defined it. \n",
    "'''"
   ]
  },
  {
   "cell_type": "code",
   "execution_count": null,
   "id": "b0598b41",
   "metadata": {},
   "outputs": [],
   "source": [
    "# Ans 3:\n",
    "'''\n",
    "a key is there in phython for creating the  functions in the phython is known as 'def'.\n",
    "with the help of that key and function name,and parenthesis and semicolon will create  function.\n",
    "'''\n",
    "#eg:   \n",
    "def sum():\n",
    "    pass"
   ]
  },
  {
   "cell_type": "code",
   "execution_count": null,
   "id": "cb36815f",
   "metadata": {},
   "outputs": [],
   "source": [
    "# Ans 4:\n",
    "'''\n",
    "a function is consists of block of exceutuable statements for getting a result,that we have to write those statements\n",
    "in the function. In other words we can say \"a function is procedure to achieve a particular result \n",
    "whereas in function calling we just call the function by it's name to perform the particular task.when we call,whatever\n",
    "statements we write in function will be exectuted.\n",
    "'''\n",
    "#eg:\n",
    "#function \n",
    "def sum():\n",
    "    a=1\n",
    "    b=2\n",
    "    return a+b\n",
    "sum()"
   ]
  },
  {
   "cell_type": "code",
   "execution_count": null,
   "id": "0f968850",
   "metadata": {},
   "outputs": [],
   "source": [
    "# Ans 5:\n",
    "'''\n",
    "There is one global space,and a local scope is created whenever a function is called.\n",
    "'''"
   ]
  },
  {
   "cell_type": "code",
   "execution_count": 1,
   "id": "177f7c8e",
   "metadata": {},
   "outputs": [
    {
     "name": "stdout",
     "output_type": "stream",
     "text": [
      "phython\n"
     ]
    },
    {
     "ename": "NameError",
     "evalue": "name 'word' is not defined",
     "output_type": "error",
     "traceback": [
      "\u001b[1;31m---------------------------------------------------------------------------\u001b[0m",
      "\u001b[1;31mNameError\u001b[0m                                 Traceback (most recent call last)",
      "Input \u001b[1;32mIn [1]\u001b[0m, in \u001b[0;36m<cell line: 11>\u001b[1;34m()\u001b[0m\n\u001b[0;32m      9\u001b[0m     \u001b[38;5;28;01mreturn\u001b[39;00m word \n\u001b[0;32m     10\u001b[0m \u001b[38;5;28mprint\u001b[39m(name())\n\u001b[1;32m---> 11\u001b[0m \u001b[38;5;28mprint\u001b[39m(\u001b[43mword\u001b[49m)\n",
      "\u001b[1;31mNameError\u001b[0m: name 'word' is not defined"
     ]
    }
   ],
   "source": [
    "# Ans 6:\n",
    "'''\n",
    "when the function call returns the value the local variables will be destrory in the memory\n",
    "if we try to access that variables after function calling it will throw an nameerror.\n",
    "'''\n",
    "# eg:\n",
    "def name():\n",
    "    word = 'phython'\n",
    "    return word \n",
    "print(name())\n",
    "print(word)\n"
   ]
  },
  {
   "cell_type": "code",
   "execution_count": null,
   "id": "bc57964b",
   "metadata": {},
   "outputs": [],
   "source": [
    "# Ans 7:\n",
    "'''\n",
    "return is keyword in phython that we can use it in a function.\n",
    "return will returns the result of the function as exact datatype whereas if we use print it will gives nonetype datatype\n",
    "as a result.\n",
    "yes,it it possible to have a return value in an expression\n",
    "'''\n",
    "# eg:\n",
    "def mul(a,b):\n",
    "    return a*b\n",
    "mul(3,4)"
   ]
  },
  {
   "cell_type": "code",
   "execution_count": 2,
   "id": "92f522e5",
   "metadata": {},
   "outputs": [
    {
     "name": "stdout",
     "output_type": "stream",
     "text": [
      "None\n"
     ]
    }
   ],
   "source": [
    "# Ans 8:\n",
    "'''\n",
    "when we call a function to get a result we will write return statement  as explcitly to get that result from a  particualr \n",
    "function.\n",
    "if it incase we omit the return satement then phython will implicitly return a value as  \"none\".\n",
    "'''\n",
    "# eg:\n",
    "def add(a):\n",
    "    a+1\n",
    "s=add(3)\n",
    "print(s)"
   ]
  },
  {
   "cell_type": "code",
   "execution_count": 3,
   "id": "6dc20e73",
   "metadata": {},
   "outputs": [
    {
     "name": "stdout",
     "output_type": "stream",
     "text": [
      "phython\n",
      "phython\n"
     ]
    }
   ],
   "source": [
    "# Ans 9:\n",
    "'''\n",
    "we can refer a function variable to the global variable by using a keyword called as \"global\"'''\n",
    "# eg:\n",
    "def fun():\n",
    "    global a\n",
    "    a = 'phython'\n",
    "    print(a)\n",
    "# getting variable values from function calling.\n",
    "fun()\n",
    "# getting variable variable from outside function \n",
    "print(a)\n",
    "\n"
   ]
  },
  {
   "cell_type": "code",
   "execution_count": 4,
   "id": "ee92d385",
   "metadata": {},
   "outputs": [
    {
     "name": "stdout",
     "output_type": "stream",
     "text": [
      "<class 'NoneType'>\n"
     ]
    }
   ],
   "source": [
    "# Ans 10:\n",
    "'''\n",
    "datatype of None is \"Nonetype\"\n",
    "'''\n",
    "# eg:\n",
    "print(type(None))"
   ]
  },
  {
   "cell_type": "code",
   "execution_count": null,
   "id": "a74133b7",
   "metadata": {},
   "outputs": [],
   "source": [
    "# Ans 11:\n",
    "'''\n",
    "That import statement imports a module named areallyourpetsnamederic\n",
    "'''"
   ]
  },
  {
   "cell_type": "code",
   "execution_count": null,
   "id": "2b24e974",
   "metadata": {},
   "outputs": [],
   "source": [
    "# Ans 12:\n",
    "import spam\n",
    "# we can call the function like this way.\n",
    "spam.backon()"
   ]
  },
  {
   "cell_type": "code",
   "execution_count": null,
   "id": "ca314f92",
   "metadata": {},
   "outputs": [],
   "source": [
    "# Ans 13:\n",
    "'''\n",
    "if we encounter any error in the programm we will put the code in try clause and gets error message as except clause.\n",
    "'''"
   ]
  },
  {
   "cell_type": "code",
   "execution_count": null,
   "id": "312310f3",
   "metadata": {},
   "outputs": [],
   "source": [
    "# Ans 14:\n",
    "'''\n",
    "The code that could potentially cause van error goes in the try clause.\n",
    "the code that excecutes if an error happens goes in the except clause.\n",
    "'''"
   ]
  }
 ],
 "metadata": {
  "kernelspec": {
   "display_name": "Python 3 (ipykernel)",
   "language": "python",
   "name": "python3"
  },
  "language_info": {
   "codemirror_mode": {
    "name": "ipython",
    "version": 3
   },
   "file_extension": ".py",
   "mimetype": "text/x-python",
   "name": "python",
   "nbconvert_exporter": "python",
   "pygments_lexer": "ipython3",
   "version": "3.9.12"
  }
 },
 "nbformat": 4,
 "nbformat_minor": 5
}
