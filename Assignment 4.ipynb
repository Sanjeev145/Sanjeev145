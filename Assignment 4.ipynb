{
 "cells": [
  {
   "cell_type": "markdown",
   "id": "3a3205cb",
   "metadata": {},
   "source": [
    "# Assignment 4"
   ]
  },
  {
   "cell_type": "code",
   "execution_count": null,
   "id": "b7ffdcc2",
   "metadata": {},
   "outputs": [],
   "source": [
    "# Ans 1:\n",
    "'''\n",
    "It means that it is an empty list, which is a list value that contains no items.This is similar to \n",
    "how '' is the empty string value. \n",
    "'''"
   ]
  },
  {
   "cell_type": "code",
   "execution_count": null,
   "id": "14fd2de7",
   "metadata": {},
   "outputs": [],
   "source": [
    "# Ans 2:\n",
    "spam[2] = 'hello'"
   ]
  },
  {
   "cell_type": "code",
   "execution_count": null,
   "id": "57ea0093",
   "metadata": {},
   "outputs": [],
   "source": [
    "# Ans 3:\n",
    "'''\n",
    "The value will be as \"d\". \n",
    "'''"
   ]
  },
  {
   "cell_type": "code",
   "execution_count": null,
   "id": "3739f06e",
   "metadata": {},
   "outputs": [],
   "source": [
    "# Ans 4:\n",
    "'''\n",
    "The value will be \"d\" (from negatives indexes we have count from end.)\n",
    "'''"
   ]
  },
  {
   "cell_type": "code",
   "execution_count": null,
   "id": "619dddd2",
   "metadata": {},
   "outputs": [],
   "source": [
    "# Ans 5:\n",
    "'''\n",
    "The values are ['a','b']\n",
    "'''"
   ]
  },
  {
   "cell_type": "code",
   "execution_count": null,
   "id": "65fd8c09",
   "metadata": {},
   "outputs": [],
   "source": [
    "# Ans 6:\n",
    "'''\n",
    "The value will be 1.\n",
    "'''"
   ]
  },
  {
   "cell_type": "code",
   "execution_count": null,
   "id": "25a8046b",
   "metadata": {},
   "outputs": [],
   "source": [
    "# Ans 7:\n",
    "'''\n",
    "It looks like as \n",
    "[3.14, 'cat', 11, 'cat', True, 99]\n",
    "'''"
   ]
  },
  {
   "cell_type": "code",
   "execution_count": null,
   "id": "fcd8b066",
   "metadata": {},
   "outputs": [],
   "source": [
    "# Ans 8:\n",
    "'''\n",
    "It looks like as \n",
    "[3.14, 11, 'cat', True]\n",
    "'''"
   ]
  },
  {
   "cell_type": "code",
   "execution_count": null,
   "id": "e5a9fcc3",
   "metadata": {},
   "outputs": [],
   "source": [
    "# Ans 9:\n",
    "'''\n",
    "The operator for list concatenation is +, while the operator for replication is *.\n",
    "'''"
   ]
  },
  {
   "cell_type": "code",
   "execution_count": null,
   "id": "35c09d2d",
   "metadata": {},
   "outputs": [],
   "source": [
    "# Ans 10:\n",
    "'''\n",
    "append() will add values only to the end of a list.\n",
    "insert() can add them anywhere in the list.\n",
    "'''\n",
    "# eg:\n",
    "a = [1,2,3]\n",
    "a.append(4)\n",
    "print(a)\n",
    "a.insert(2,5)\n",
    "print(a)"
   ]
  },
  {
   "cell_type": "code",
   "execution_count": null,
   "id": "b919b231",
   "metadata": {},
   "outputs": [],
   "source": [
    "# Ans 11:\n",
    "'''\n",
    "The del statement and the remove() list method are two ways to remove values from a list.\n",
    "'''\n",
    "# eg:\n",
    "s=['hello',1,2.5,3+5j]\n",
    "print(s)\n",
    "del s[3]\n",
    "print(s)\n",
    "s.remove(1)\n",
    "print(s)"
   ]
  },
  {
   "cell_type": "code",
   "execution_count": null,
   "id": "77c6e425",
   "metadata": {},
   "outputs": [],
   "source": [
    "# Ans 12:\n",
    "'''\n",
    "Both lists and strings can be passed to len(), have indexes and slices, \n",
    "be used in for loops, be concatenated or replicated, and be used with the in and not in operator.\n",
    "'''"
   ]
  },
  {
   "cell_type": "code",
   "execution_count": null,
   "id": "a974c01f",
   "metadata": {},
   "outputs": [],
   "source": [
    "# Ans 13:\n",
    "'''\n",
    "Tuples are immutable, they cannot be changed at all.Tuples are written using parentheses,\n",
    "while Lists are mutuable they can have values added, removed, or changed.Lists are wrtiteen using square brackets.\n",
    "'''"
   ]
  },
  {
   "cell_type": "code",
   "execution_count": null,
   "id": "8ff76703",
   "metadata": {},
   "outputs": [],
   "source": [
    "# Ans 14:\n",
    "'''\n",
    "we can type as (42,)\n",
    "'''"
   ]
  },
  {
   "cell_type": "code",
   "execution_count": 2,
   "id": "020b555f",
   "metadata": {},
   "outputs": [
    {
     "name": "stdout",
     "output_type": "stream",
     "text": [
      "(1, 2, 3, 4, 5)\n",
      "[1, 2, 3, 4, 5]\n"
     ]
    }
   ],
   "source": [
    "# Ans 15:\n",
    "'''\n",
    "we can apply tuple() for getting the list values into tuples.\n",
    "we can apply the list() for getting the tuple values as list values.\n",
    "'''\n",
    "# eg:\n",
    "l = [1,2,3,4,5]\n",
    "t = tuple(l) # converting as tuples.\n",
    "print(t)\n",
    "l1 = list(t) #converting as list values.\n",
    "print(l1)"
   ]
  },
  {
   "cell_type": "code",
   "execution_count": 3,
   "id": "29258812",
   "metadata": {},
   "outputs": [],
   "source": [
    "# Ans 16:\n",
    "'''\n",
    "They contain references to list values.\n",
    "'''\n"
   ]
  },
  {
   "cell_type": "code",
   "execution_count": null,
   "id": "95799344",
   "metadata": {},
   "outputs": [],
   "source": [
    "# Ans 17:\n",
    "'''\n",
    "The copy.copy() function will do a shallow copy of a list, while the copy.deepcopy() function will do a deep copy of a list.\n",
    "That is, only copy.deepcopy() will duplicate any lists inside the list.\n",
    "'''"
   ]
  }
 ],
 "metadata": {
  "kernelspec": {
   "display_name": "Python 3 (ipykernel)",
   "language": "python",
   "name": "python3"
  },
  "language_info": {
   "codemirror_mode": {
    "name": "ipython",
    "version": 3
   },
   "file_extension": ".py",
   "mimetype": "text/x-python",
   "name": "python",
   "nbconvert_exporter": "python",
   "pygments_lexer": "ipython3",
   "version": "3.9.12"
  }
 },
 "nbformat": 4,
 "nbformat_minor": 5
}
