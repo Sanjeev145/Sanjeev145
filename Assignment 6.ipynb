{
 "cells": [
  {
   "cell_type": "markdown",
   "id": "b303b056",
   "metadata": {},
   "source": [
    "# Assignment 6"
   ]
  },
  {
   "cell_type": "code",
   "execution_count": 1,
   "id": "70474d07",
   "metadata": {},
   "outputs": [
    {
     "name": "stdout",
     "output_type": "stream",
     "text": [
      "phython is a programming\n",
      " language\n"
     ]
    }
   ],
   "source": [
    "# Ans 1:\n",
    "'''\n",
    "Escape characters represent characters in string values that id does not represent itself but it is converted into \n",
    "another character.\n",
    "We can use them by using the backslash(\\)infront of escape characters.\n",
    "'''\n",
    "# eg:\n",
    "s = 'phython is a programming\\n language' # here \\n represents to go to newline.\n",
    "print(s)"
   ]
  },
  {
   "cell_type": "code",
   "execution_count": 2,
   "id": "af3189d3",
   "metadata": {},
   "outputs": [
    {
     "name": "stdout",
     "output_type": "stream",
     "text": [
      "hello\n",
      "world!!!\n",
      "hello\t world!!!\n"
     ]
    }
   ],
   "source": [
    "# Ans 2:\n",
    "'''\n",
    "\\n will used for to goto a new line.\n",
    "\\t will used for  tab space.\n",
    "'''\n",
    "# eg:\n",
    "word = 'hello\\nworld!!!'\n",
    "word1 = 'hello\\t world!!!'\n",
    "print(word)\n",
    "print(word1)"
   ]
  },
  {
   "cell_type": "code",
   "execution_count": 3,
   "id": "a4730590",
   "metadata": {},
   "outputs": [
    {
     "name": "stdout",
     "output_type": "stream",
     "text": [
      "for a new line we use \\n.\n"
     ]
    }
   ],
   "source": [
    "# Ans 3:\n",
    "'''\n",
    "The \\\\ escape character will represent a backslash character.\n",
    "'''\n",
    "# eg:\n",
    "value = 'for a new line we use \\\\n.' # for representing \\n we use \\\\ infront of any backslash characters. \n",
    "print(value)"
   ]
  },
  {
   "cell_type": "code",
   "execution_count": null,
   "id": "d18ad09f",
   "metadata": {},
   "outputs": [],
   "source": [
    "# Ans 4:\n",
    "'''\n",
    "The single quote in Howl's is fine because you’ve used double quotes to mark the beginning and end of the string.\n",
    " '''"
   ]
  },
  {
   "cell_type": "code",
   "execution_count": 4,
   "id": "02f0f5b7",
   "metadata": {},
   "outputs": [
    {
     "name": "stdout",
     "output_type": "stream",
     "text": [
      "phython \n",
      "is \n",
      "very\n",
      "easy\n",
      "to\n",
      "learn\n"
     ]
    }
   ],
   "source": [
    "# Ans 5:\n",
    "'''\n",
    "Multiline strings allow you to use newlines in strings without the \\n escape character.\n",
    " '''\n",
    "# eg:\n",
    "t = '''phython \n",
    "is \n",
    "very\n",
    "easy\n",
    "to\n",
    "learn'''\n",
    "print(t)"
   ]
  },
  {
   "cell_type": "code",
   "execution_count": null,
   "id": "2e59ac0b",
   "metadata": {},
   "outputs": [],
   "source": [
    "# Ans 6:\n",
    "'''\n",
    "1.'e'\n",
    "2.'Hello'\n",
    "3.'Hello'\n",
    "4.'lo, world'\n",
    "'''\n"
   ]
  },
  {
   "cell_type": "code",
   "execution_count": null,
   "id": "ec843358",
   "metadata": {},
   "outputs": [],
   "source": [
    "# Ans 7:\n",
    "'''\n",
    "1.'HELLO'\n",
    "2. True\n",
    "3.'hello'\n",
    "'''"
   ]
  },
  {
   "cell_type": "code",
   "execution_count": null,
   "id": "58fc9289",
   "metadata": {},
   "outputs": [],
   "source": [
    "# Ans 8:\n",
    "'''\n",
    "The expressions evaluate to the following:\n",
    "['Remember,', 'remember,', 'the', 'fifth', 'of', 'November.']\n",
    "'There-can-be-only-one.\n",
    "''''"
   ]
  },
  {
   "cell_type": "code",
   "execution_count": null,
   "id": "dedf64ac",
   "metadata": {},
   "outputs": [],
   "source": [
    "# Ans 9:\n",
    "'''\n",
    "rjust() for right-justifynig\n",
    "ljust() for left-justifying\n",
    "centre() for centering\n",
    "'''"
   ]
  },
  {
   "cell_type": "code",
   "execution_count": null,
   "id": "89138da4",
   "metadata": {},
   "outputs": [],
   "source": [
    "# Ans 10:\n",
    "'''\n",
    "The lstrip() and rstrip() methods remove whitespace from the left and right ends of a string, respectively.\n",
    "'''"
   ]
  }
 ],
 "metadata": {
  "kernelspec": {
   "display_name": "Python 3 (ipykernel)",
   "language": "python",
   "name": "python3"
  },
  "language_info": {
   "codemirror_mode": {
    "name": "ipython",
    "version": 3
   },
   "file_extension": ".py",
   "mimetype": "text/x-python",
   "name": "python",
   "nbconvert_exporter": "python",
   "pygments_lexer": "ipython3",
   "version": "3.9.12"
  }
 },
 "nbformat": 4,
 "nbformat_minor": 5
}
