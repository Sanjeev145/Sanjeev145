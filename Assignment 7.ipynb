{
 "cells": [
  {
   "cell_type": "markdown",
   "id": "fc6a002e",
   "metadata": {},
   "source": [
    "# Assignment 7"
   ]
  },
  {
   "cell_type": "code",
   "execution_count": 1,
   "id": "250235ae",
   "metadata": {},
   "outputs": [
    {
     "name": "stdout",
     "output_type": "stream",
     "text": [
      "<class 're.Pattern'>\n"
     ]
    }
   ],
   "source": [
    "import re\n",
    "# Ans 1:\n",
    "'''\n",
    "The re.compile() function returns Regex objects.\n",
    "'''\n",
    "# eg:\n",
    "s = re.compile('ab')\n",
    "print(type(s))"
   ]
  },
  {
   "cell_type": "code",
   "execution_count": 2,
   "id": "926ddd9a",
   "metadata": {},
   "outputs": [
    {
     "name": "stdout",
     "output_type": "stream",
     "text": [
      "phython\n",
      "language\n",
      "phython\\nlanguage\n"
     ]
    }
   ],
   "source": [
    "# Ans 2:\n",
    "'''\n",
    "Raw strings are used so that backslashes do not have to be escaped.\n",
    "'''\n",
    "# eg:\n",
    "a = 'phython\\nlanguage' # without raw string \\n will escapes to new line.\n",
    "print(a)\n",
    "A = r'phython\\nlanguage' # with raw string \\n doesn't escapes.\n",
    "print(A)"
   ]
  },
  {
   "cell_type": "code",
   "execution_count": 3,
   "id": "4bc0ee53",
   "metadata": {},
   "outputs": [
    {
     "name": "stdout",
     "output_type": "stream",
     "text": [
      "<re.Match object; span=(0, 1), match='a'>\n"
     ]
    }
   ],
   "source": [
    "# Ans 3:\n",
    "'''\n",
    "The search() method returns Match objects.\n",
    "'''\n",
    "# eg:\n",
    "t = re.search('a','abaabaaab')\n",
    "print(t)"
   ]
  },
  {
   "cell_type": "code",
   "execution_count": 4,
   "id": "69872b90",
   "metadata": {},
   "outputs": [
    {
     "name": "stdout",
     "output_type": "stream",
     "text": [
      "matched text : ab\n",
      "matched text : ab\n",
      "matched text : ab\n"
     ]
    }
   ],
   "source": [
    "# Ans 4:\n",
    "'''\n",
    "The group() method returns strings of the matched text.\n",
    "'''\n",
    "# eg:\n",
    "r = re.compile('ab')\n",
    "r1 = r.finditer('abaabaaab')\n",
    "for i in r1:\n",
    "    print('matched text :',i.group())"
   ]
  },
  {
   "cell_type": "code",
   "execution_count": null,
   "id": "173bbdf2",
   "metadata": {},
   "outputs": [],
   "source": [
    "# Ans 5:\n",
    "'''\n",
    "Group 0 is the entire match, group 1 covers the first set of parentheses,\n",
    "and group 2 covers the second set of parentheses.\n",
    " '''\n"
   ]
  },
  {
   "cell_type": "code",
   "execution_count": null,
   "id": "6c27cb1b",
   "metadata": {},
   "outputs": [],
   "source": [
    "# Ans 6:\n",
    "'''\n",
    "Periods and parentheses can be escaped with a backslash: \\., \\(, and \\).\n",
    "'''"
   ]
  },
  {
   "cell_type": "code",
   "execution_count": null,
   "id": "38e49d10",
   "metadata": {},
   "outputs": [],
   "source": [
    "# Ans 7:\n",
    "'''\n",
    "If the regex has no groups, a list of strings is returned.\n",
    "If the regex has groups, a list of tuples of strings is returned.\n",
    "'''"
   ]
  },
  {
   "cell_type": "code",
   "execution_count": null,
   "id": "9b3be814",
   "metadata": {},
   "outputs": [],
   "source": [
    "# Ans 8:\n",
    "'''\n",
    "The | character signifies matching “either, or” between two groups.\n",
    "'''"
   ]
  },
  {
   "cell_type": "code",
   "execution_count": null,
   "id": "52c8f94b",
   "metadata": {},
   "outputs": [],
   "source": [
    "# Ans 9:\n",
    "'''\n",
    "The ? character can either mean “match zero or one of the preceding group” or be used to signify non-greedy matching.\n",
    "'''"
   ]
  },
  {
   "cell_type": "code",
   "execution_count": null,
   "id": "651b96d5",
   "metadata": {},
   "outputs": [],
   "source": [
    "# Ans 10:\n",
    "'''\n",
    "The + matches one or more. The * matches zero or more.\n",
    "'''"
   ]
  },
  {
   "cell_type": "code",
   "execution_count": null,
   "id": "3f12d8da",
   "metadata": {},
   "outputs": [],
   "source": [
    "# Ans 11:\n",
    "'''\n",
    "The {3} matches exactly three instances of the preceding group. The {3,5} matches between three and five instances.\n",
    "'''"
   ]
  },
  {
   "cell_type": "code",
   "execution_count": null,
   "id": "6a2e556c",
   "metadata": {},
   "outputs": [],
   "source": [
    "# Ans 12:\n",
    "'''\n",
    "The \\d, \\w, and \\s shorthand character classes match a single digit, word, or space character, respectively.\n",
    "'''"
   ]
  },
  {
   "cell_type": "code",
   "execution_count": null,
   "id": "240fc14d",
   "metadata": {},
   "outputs": [],
   "source": [
    "# Ans 13:\n",
    "'''\n",
    "The \\D, \\W, and \\S shorthand character classes match a single character that is not a digit, word, or space character\n",
    "respectively.\n",
    "'''"
   ]
  },
  {
   "cell_type": "code",
   "execution_count": null,
   "id": "064ba556",
   "metadata": {},
   "outputs": [],
   "source": [
    "# Ans 14:\n",
    "'''\n",
    "The .* performs a greedy match, and the .*? performs a non-greedy match.\n",
    "'''"
   ]
  },
  {
   "cell_type": "code",
   "execution_count": null,
   "id": "d93ae256",
   "metadata": {},
   "outputs": [],
   "source": [
    "# Ans 15:\n",
    "'''\n",
    "Either [0-9a-z] or [a-z0-9]\n",
    "'''"
   ]
  },
  {
   "cell_type": "code",
   "execution_count": null,
   "id": "d73d0c64",
   "metadata": {},
   "outputs": [],
   "source": [
    "# Ans 16:\n",
    "'''\n",
    "Passing re.I or re.IGNORECASE as the second argument to re.compile() will make the matching case insensitive.\n",
    "'''"
   ]
  },
  {
   "cell_type": "code",
   "execution_count": null,
   "id": "81cd729b",
   "metadata": {},
   "outputs": [],
   "source": [
    "# Ans 17:\n",
    "'''\n",
    "The . character normally matches any character except the newline character. If re.DOTALL is passed as the second argument\n",
    "to re.compile(), then the dot will also match newline characters.\n",
    "'''"
   ]
  },
  {
   "cell_type": "code",
   "execution_count": null,
   "id": "d8467de3",
   "metadata": {},
   "outputs": [],
   "source": [
    "# Ans 18:\n",
    "'''\n",
    " The sub() call will return the string 'X drummers, X pipers, five rings, X hens'.\n",
    " '''"
   ]
  },
  {
   "cell_type": "code",
   "execution_count": null,
   "id": "b29c0971",
   "metadata": {},
   "outputs": [],
   "source": [
    "# Ans 19:\n",
    "'''\n",
    "The re.VERBOSE argument allows you to add whitespace and comments to the string passed to re.compile().\n",
    "'''"
   ]
  },
  {
   "cell_type": "code",
   "execution_count": null,
   "id": "54e81d70",
   "metadata": {},
   "outputs": [],
   "source": [
    "# Ans 20:\n",
    "'''\n",
    "re.compile(r'^\\d{1,3}(,\\d{3})*$') will create this regex,\n",
    "but other regex strings can produce a similar regular expression.\n",
    "'''"
   ]
  },
  {
   "cell_type": "code",
   "execution_count": null,
   "id": "c11944df",
   "metadata": {},
   "outputs": [],
   "source": [
    "# Ans 21:\n",
    "'''\n",
    "re.compile(r'[A-Z][a-z]*\\sWatanabe')\n",
    "'''"
   ]
  },
  {
   "cell_type": "code",
   "execution_count": null,
   "id": "090f0114",
   "metadata": {},
   "outputs": [],
   "source": [
    "# Ans 22:\n",
    "'''\n",
    " re.compile(r'(Alice|Bob|Carol)\\s(eats|pets|throws)\\s(apples|cats|baseballs)\\.', re.IGNORECASE)\n",
    " '''"
   ]
  }
 ],
 "metadata": {
  "kernelspec": {
   "display_name": "Python 3 (ipykernel)",
   "language": "python",
   "name": "python3"
  },
  "language_info": {
   "codemirror_mode": {
    "name": "ipython",
    "version": 3
   },
   "file_extension": ".py",
   "mimetype": "text/x-python",
   "name": "python",
   "nbconvert_exporter": "python",
   "pygments_lexer": "ipython3",
   "version": "3.9.12"
  }
 },
 "nbformat": 4,
 "nbformat_minor": 5
}
