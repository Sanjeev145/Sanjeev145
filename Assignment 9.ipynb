{
 "cells": [
  {
   "cell_type": "code",
   "execution_count": null,
   "id": "f27d3653",
   "metadata": {},
   "outputs": [],
   "source": [
    "# Ans 1:\n",
    "'''\n",
    "Relative paths are relative to the current working directory.\n",
    "\n",
    "'''"
   ]
  },
  {
   "cell_type": "code",
   "execution_count": null,
   "id": "94c6e3eb",
   "metadata": {},
   "outputs": [],
   "source": [
    "# Ans 2:\n",
    "'''\n",
    " Absolute paths start with the root folder, such as / or C:\\.\n",
    "\n",
    "'''"
   ]
  },
  {
   "cell_type": "code",
   "execution_count": null,
   "id": "4a40a133",
   "metadata": {},
   "outputs": [],
   "source": [
    "# Ans 3:\n",
    "'''\n",
    " The os.getcwd() function returns the current working directory. \n",
    " The os.chdir() function changes the current working directory.\n",
    "\n",
    "'''\n"
   ]
  },
  {
   "cell_type": "code",
   "execution_count": null,
   "id": "8fc6bf76",
   "metadata": {},
   "outputs": [],
   "source": [
    "# Ans 4:\n",
    "'''\n",
    "The . folder is the current folder, and .. is the parent folder.\n",
    "\n",
    "'''"
   ]
  },
  {
   "cell_type": "code",
   "execution_count": null,
   "id": "6c7fd7ef",
   "metadata": {},
   "outputs": [],
   "source": [
    "# Ans 5:\n",
    "'''\n",
    "C:\\bacon\\eggs is the dir name, while spam.txt is the base name.\n",
    "\n",
    "'''"
   ]
  },
  {
   "cell_type": "code",
   "execution_count": null,
   "id": "aaa38899",
   "metadata": {},
   "outputs": [],
   "source": [
    "# Ans 6:\n",
    "'''\n",
    "The string 'r' for read mode, 'w' for write mode, and 'a' for append mode\n",
    "\n",
    "'''"
   ]
  },
  {
   "cell_type": "code",
   "execution_count": null,
   "id": "61c8f606",
   "metadata": {},
   "outputs": [],
   "source": [
    "# Ans 7:\n",
    "'''\n",
    " An existing file opened in write mode is erased and completely overwritten.\n",
    "\n",
    "'''"
   ]
  },
  {
   "cell_type": "code",
   "execution_count": null,
   "id": "8c1903ac",
   "metadata": {},
   "outputs": [],
   "source": [
    "# Ans 8:\n",
    "'''\n",
    " The read() method returns the file’s entire contents as a single string value.\n",
    " The readlines() method returns a list of strings, where each string is a line from the file’s contents.\n",
    "\n",
    "'''"
   ]
  },
  {
   "cell_type": "code",
   "execution_count": null,
   "id": "0f3b5d77",
   "metadata": {},
   "outputs": [],
   "source": [
    "# Ans 9:\n",
    "'''\n",
    "\n",
    "A shelf value resembles a dictionary value; it has keys and values, along with keys() and values() methods that work similarly to the dictionary methods of the same names.\n",
    "\n",
    "'''\n"
   ]
  },
  {
   "cell_type": "code",
   "execution_count": null,
   "id": "e0258683",
   "metadata": {},
   "outputs": [],
   "source": []
  }
 ],
 "metadata": {
  "kernelspec": {
   "display_name": "Python 3 (ipykernel)",
   "language": "python",
   "name": "python3"
  },
  "language_info": {
   "codemirror_mode": {
    "name": "ipython",
    "version": 3
   },
   "file_extension": ".py",
   "mimetype": "text/x-python",
   "name": "python",
   "nbconvert_exporter": "python",
   "pygments_lexer": "ipython3",
   "version": "3.9.12"
  }
 },
 "nbformat": 4,
 "nbformat_minor": 5
}
